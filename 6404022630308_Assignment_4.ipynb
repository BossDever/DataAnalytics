{
  "nbformat": 4,
  "nbformat_minor": 0,
  "metadata": {
    "colab": {
      "provenance": [],
      "authorship_tag": "ABX9TyPQVM8dJUJSllhtPad57oxW",
      "include_colab_link": true
    },
    "kernelspec": {
      "name": "python3",
      "display_name": "Python 3"
    },
    "language_info": {
      "name": "python"
    }
  },
  "cells": [
    {
      "cell_type": "markdown",
      "metadata": {
        "id": "view-in-github",
        "colab_type": "text"
      },
      "source": [
        "<a href=\"https://colab.research.google.com/github/BossDever/DataAnalytics/blob/main/6404022630308_Assignment_4.ipynb\" target=\"_parent\"><img src=\"https://colab.research.google.com/assets/colab-badge.svg\" alt=\"Open In Colab\"/></a>"
      ]
    },
    {
      "cell_type": "markdown",
      "source": [
        "# **Find the definitions of various types of data analytics using ChatGPT, Bard, Claude.ai**\n",
        "\n",
        " **Descriptive Analytics**"
      ],
      "metadata": {
        "id": "R7wosh0Jp2qS"
      }
    },
    {
      "cell_type": "markdown",
      "source": [
        "Descriptive Analytics (การวิเคราะห์เชิงพรรณนา): ประเภทนี้เกี่ยวข้องกับการประมวลผลและการนำเสนอข้อมูลอย่างที่เป็นอยู่เพื่ออธิบายสถานการณ์ที่เกิดขึ้นในอดีตหรือปัจจุบัน มักใช้เพื่อสรุปข้อมูลเช่น รายงานยอดขาย, ผลการดำเนินงานของบริษัท หรือข้อมูลลูกค้า"
      ],
      "metadata": {
        "id": "4GVhwZshp4AL"
      }
    },
    {
      "cell_type": "markdown",
      "source": [
        "**Diagnostic Analytics**"
      ],
      "metadata": {
        "id": "VXm9sA2OtNjR"
      }
    },
    {
      "cell_type": "markdown",
      "source": [
        "Diagnostic Analytics (การวิเคราะห์เชิงวินิจฉัย): การวิเคราะห์นี้เน้นที่การหาสาเหตุหรือปัจจัยที่ทำให้เกิดผลลัพธ์ที่สังเกตเห็น เช่น การวิเคราะห์เหตุผลที่ยอดขายลดลง หรือการหาสาเหตุของปัญหาที่เกิดขึ้นในกระบวนการผลิต"
      ],
      "metadata": {
        "id": "6zRLZ1Hythr5"
      }
    },
    {
      "cell_type": "markdown",
      "source": [
        "**Predictive Analytics**"
      ],
      "metadata": {
        "id": "O2qVFcWDtjyC"
      }
    },
    {
      "cell_type": "markdown",
      "source": [
        "Predictive Analytics (การวิเคราะห์เชิงพยากรณ์): การวิเคราะห์ประเภทนี้ใช้ข้อมูลจากอดีตและปัจจุบันเพื่อทำนายเหตุการณ์หรือผลลัพธ์ในอนาคต ตัวอย่างเช่น การใช้การวิเคราะห์พฤติกรรมลูกค้าเพื่อทำนายแนวโน้มการซื้อในอนาคต"
      ],
      "metadata": {
        "id": "WYWkInIptp0C"
      }
    },
    {
      "cell_type": "markdown",
      "source": [
        "**Prescriptive Analytics**"
      ],
      "metadata": {
        "id": "5RtMM9Zytr9C"
      }
    },
    {
      "cell_type": "markdown",
      "source": [
        "Prescriptive Analytics (การวิเคราะห์เชิงกำหนด): ประเภทนี้ไม่เพียงแต่ทำนายเหตุการณ์อนาคต แต่ยังให้คำแนะนำหรือแนวทางในการดำเนินการ เช่น การวิเคราะห์เพื่อหาวิธีที่ดีที่สุดในการจัดการกับปัญหาการขาดแคลนทรัพยากร"
      ],
      "metadata": {
        "id": "rrHWjRR2tuma"
      }
    },
    {
      "cell_type": "markdown",
      "source": [
        "# **Find the differences between Data Analysis and Data Analytics.using ChatGPT, Bard, Claude.ai**"
      ],
      "metadata": {
        "id": "o58TXCThtwSK"
      }
    },
    {
      "cell_type": "markdown",
      "source": [
        "ความแตกต่างระหว่าง Data Analysis และ Data Analytics:\n",
        "Data Analysis (การวิเคราะห์ข้อมูล): มุ่งเน้นไปที่การประมวลผลและการตีความข้อมูลเพื่อหาคำตอบหรือเข้าใจข้อมูลที่มีอยู่ การวิเคราะห์ข้อมูลมักเกี่ยวข้องกับการจัดเรียง, จำแนก, และการตีความข้อมูลเพื่อหาความหมายหรือประโยชน์ ตัวอย่างเช่น การวิเคราะห์ข้อมูลจากการสำรวจเพื่อทำความเข้าใจถึงความคิดเห็นหรือพฤติกรรมของผู้ตอบแบบสอบถาม\n",
        "\n",
        "Data Analytics (การวิเคราะห์ข้อมูลเชิงลึก): นี่คือการประยุกต์ใช้วิธีการและเครื่องมือต่างๆ เพื่อแก้ปัญหาธุรกิจหรือคำถามที่ซับซ้อน ด้วยการใช้การวิเคราะห์ขั้นสูง เช่น การเรียนรู้ของเครื่อง, การวิเคราะห์ทางสถิติขั้นสูง, และการวิเคราะห์เชิงพยากรณ์ การวิเคราะห์ข้อมูลเชิงลึกมีเป้าหมายเพื่อช่วยให้ผู้ตัดสินใจสามารถทำการตัดสินใจที่มีข้อมูลเชิงลึกเป็นพื้นฐาน\n",
        "\n",
        "โดยสรุป, Data Analysis มีความเน้นที่การประมวลผลและการตีความข้อมูลเพื่อหาความหมาย, ขณะที่ Data Analytics เป็นการประยุกต์ใช้วิธีการที่ซับซ้อนขึ้นเพื่อหาคำตอบหรือโซลูชั่นสำหรับปัญหาที่มีความซับซ้อนและหลากหลายมากขึ้น ทั้งสองมีความสำคัญและมีบทบาทที่แตกต่างกันในการทำงานกับข้อมูล."
      ],
      "metadata": {
        "id": "Pl33FXiKuD3d"
      }
    },
    {
      "cell_type": "markdown",
      "source": [],
      "metadata": {
        "id": "HFuDTtmIuQUe"
      }
    }
  ]
}